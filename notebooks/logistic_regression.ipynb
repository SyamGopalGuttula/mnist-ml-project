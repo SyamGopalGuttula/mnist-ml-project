{
 "cells": [
  {
   "cell_type": "code",
   "execution_count": null,
   "id": "3ec7503a",
   "metadata": {},
   "outputs": [],
   "source": [
    "import pandas as pd\n",
    "import numpy as np\n",
    "import matplotlib.pyplot as plt\n",
    "import seaborn as sns\n",
    "import sys\n",
    "import time\n",
    "\n",
    "# Import evaluation script\n",
    "sys.path.append('../scripts')\n",
    "from evaluate_model import evaluate_model\n",
    "\n",
    "# Load data\n",
    "train_df = pd.read_csv('../data/mnist_train.csv')\n",
    "test_df = pd.read_csv('../data/mnist_test.csv')\n",
    "\n",
    "# Prepare features and labels\n",
    "X_train = train_df.iloc[:, 1:].values\n",
    "y_train = train_df.iloc[:, 0].values\n",
    "X_test = test_df.iloc[:, 1:].values\n",
    "y_test = test_df.iloc[:, 0].values"
   ]
  },
  {
   "cell_type": "code",
   "execution_count": null,
   "id": "4b99aa0a",
   "metadata": {},
   "outputs": [],
   "source": [
    "# Train Logistic Regression\n",
    "from sklearn.linear_model import LogisticRegression\n",
    "\n",
    "print(\"Training Logistic Regression...\")\n",
    "model = LogisticRegression(max_iter=2000)\n",
    "model.fit(X_train, y_train)"
   ]
  },
  {
   "cell_type": "code",
   "execution_count": null,
   "id": "35531cbe",
   "metadata": {},
   "outputs": [],
   "source": [
    "# Evaluate model\n",
    "results = evaluate_model(model, X_test, y_test, model_name='logistic_model')"
   ]
  }
 ],
 "metadata": {
  "language_info": {
   "name": "python"
  }
 },
 "nbformat": 4,
 "nbformat_minor": 5
}
